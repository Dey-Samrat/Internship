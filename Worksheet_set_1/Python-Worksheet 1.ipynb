{
 "cells": [
  {
   "cell_type": "code",
   "execution_count": 2,
   "id": "862830a9",
   "metadata": {},
   "outputs": [
    {
     "name": "stdout",
     "output_type": "stream",
     "text": [
      "Please enter a number\n",
      "5\n",
      "The factorial of 5 is 120\n"
     ]
    }
   ],
   "source": [
    "# Q11. Program to find the factorial of a number.\n",
    "num=int(input('Please enter a number\\n'))\n",
    "fact=1\n",
    "for i in range(1,num+1):\n",
    "    fact=fact*i\n",
    "    i+=1\n",
    "print('The factorial of',num, 'is',fact)"
   ]
  },
  {
   "cell_type": "code",
   "execution_count": 51,
   "id": "3c4d9bfa",
   "metadata": {},
   "outputs": [
    {
     "name": "stdout",
     "output_type": "stream",
     "text": [
      "Please enter a number\n",
      "23\n",
      "The number is a prime number\n"
     ]
    }
   ],
   "source": [
    "# Q12. Program to find whether a number is prime or composite.\n",
    "num=int(input('Please enter a number\\n'))\n",
    "if num<3:\n",
    "    print('The number is a prime number')\n",
    "else:\n",
    "    for i in range (2,num):\n",
    "        if num%i==0:\n",
    "            print('The number is a composite number')\n",
    "            break\n",
    "        else:\n",
    "            i+=1\n",
    "    else:\n",
    "        print('The number is a prime number')"
   ]
  },
  {
   "cell_type": "code",
   "execution_count": 11,
   "id": "8ca46214",
   "metadata": {},
   "outputs": [
    {
     "name": "stdout",
     "output_type": "stream",
     "text": [
      "Please enter a string\n",
      "malayalam\n",
      "malayalam is a palindrom\n"
     ]
    }
   ],
   "source": [
    "# Q13. Program to check whether a given string is palindrome or not.\n",
    "str=input('Please enter a string\\n')\n",
    "i=0\n",
    "l=len(str)-1\n",
    "while l>i:\n",
    "    if str[i]!=str[l]:\n",
    "        print(str,'is not a palindrom')\n",
    "        break\n",
    "    else:\n",
    "        i=i+1\n",
    "        l=l-1\n",
    "else:\n",
    "    print(str,'is a palindrom')"
   ]
  },
  {
   "cell_type": "code",
   "execution_count": 31,
   "id": "83acfd94",
   "metadata": {},
   "outputs": [
    {
     "name": "stdout",
     "output_type": "stream",
     "text": [
      "Entter the length of first side in cms\n",
      "6\n",
      "Entter the length of second side in cms\n",
      "7\n",
      "The third side is 9.22 cms\n"
     ]
    }
   ],
   "source": [
    "# Q14. Program to get the third side of right-angled triangle from two given sides.\n",
    "import numpy as np\n",
    "a=int(input('Enter the length of first side in cms\\n'))\n",
    "b=int(input('Enter the length of second side in cms\\n'))\n",
    "c=np.sqrt((a**2)+(b**2))\n",
    "print('The third side is',\"%.2f\" %c,'cms')"
   ]
  },
  {
   "cell_type": "code",
   "execution_count": 36,
   "id": "6ac3b406",
   "metadata": {},
   "outputs": [
    {
     "name": "stdout",
     "output_type": "stream",
     "text": [
      "Enter a string\n",
      "Hello World!\n",
      "The frequency of each of the characters in the string \" Hello World! \" is:\n",
      "\n",
      "{'H': 1, 'e': 1, 'l': 3, 'o': 2, ' ': 1, 'W': 1, 'r': 1, 'd': 1, '!': 1}\n"
     ]
    }
   ],
   "source": [
    "# Q15. Program to print the frequency of each of the characters present in a given string.\n",
    "str=input('Enter a string\\n')\n",
    "count={}\n",
    "for i in str:\n",
    "    if i in count:\n",
    "        count[i]+=1\n",
    "    else:\n",
    "        count[i]=1\n",
    "print('The frequency of each of the characters in the string \"',str,'\" is:\\n')\n",
    "print(count)"
   ]
  },
  {
   "cell_type": "code",
   "execution_count": null,
   "id": "e3e36cb6",
   "metadata": {},
   "outputs": [],
   "source": []
  }
 ],
 "metadata": {
  "kernelspec": {
   "display_name": "Python 3 (ipykernel)",
   "language": "python",
   "name": "python3"
  },
  "language_info": {
   "codemirror_mode": {
    "name": "ipython",
    "version": 3
   },
   "file_extension": ".py",
   "mimetype": "text/x-python",
   "name": "python",
   "nbconvert_exporter": "python",
   "pygments_lexer": "ipython3",
   "version": "3.10.9"
  }
 },
 "nbformat": 4,
 "nbformat_minor": 5
}
