{
 "cells": [
  {
   "cell_type": "code",
   "execution_count": null,
   "id": "ffd16f73",
   "metadata": {},
   "outputs": [],
   "source": [
    "# Regular Expressions Assignment 1 by Samrat Dey (Batch No. DS2312)"
   ]
  },
  {
   "cell_type": "code",
   "execution_count": 1,
   "id": "e632678b",
   "metadata": {},
   "outputs": [],
   "source": [
    "import pandas as pd"
   ]
  },
  {
   "cell_type": "code",
   "execution_count": 2,
   "id": "130854f4",
   "metadata": {},
   "outputs": [],
   "source": [
    "import numpy as np"
   ]
  },
  {
   "cell_type": "code",
   "execution_count": 3,
   "id": "d8922552",
   "metadata": {},
   "outputs": [],
   "source": [
    "import re"
   ]
  },
  {
   "cell_type": "code",
   "execution_count": 4,
   "id": "dd3eefed",
   "metadata": {},
   "outputs": [],
   "source": [
    "import regex as re"
   ]
  },
  {
   "cell_type": "code",
   "execution_count": 4,
   "id": "5ff090ce",
   "metadata": {},
   "outputs": [],
   "source": [
    "import warnings\n",
    "warnings.filterwarnings('ignore')"
   ]
  },
  {
   "cell_type": "code",
   "execution_count": 5,
   "id": "e41d5871",
   "metadata": {},
   "outputs": [
    {
     "name": "stdout",
     "output_type": "stream",
     "text": [
      "Python:Exercises::PHP:exercises:\n"
     ]
    }
   ],
   "source": [
    "#1 Python program to replace all occurrences of a space, comma, or dot with a colon.\n",
    "text='Python Exercises, PHP exercises.'\n",
    "x=re.sub(r\"\\s+|,|.$\",\":\",text)\n",
    "print(x)"
   ]
  },
  {
   "cell_type": "code",
   "execution_count": 6,
   "id": "434e10e6",
   "metadata": {},
   "outputs": [
    {
     "name": "stdout",
     "output_type": "stream",
     "text": [
      "0      hello world\n",
      "1             test\n",
      "2    four five six\n",
      "Name: SUMMARY, dtype: object\n"
     ]
    }
   ],
   "source": [
    "#2 Creating a dataframe using the dictionary below and remove everything (commas (,), !, XXXX, ;, etc.) from the columns except words.\n",
    "dic={'SUMMARY' : ['hello, world!', 'XXXXX test', '123four, five:; six...']}\n",
    "df=pd.DataFrame(dic)\n",
    "def rem_str(x):\n",
    "    return re.sub(r\"\\d+|,|!|X|:|;|\\W+$\",\"\",x)\n",
    "df=df['SUMMARY'].apply(rem_str)\n",
    "print(df)"
   ]
  },
  {
   "cell_type": "code",
   "execution_count": 7,
   "id": "9d850887",
   "metadata": {},
   "outputs": [
    {
     "name": "stdout",
     "output_type": "stream",
     "text": [
      "['regular', 'expression', 'pattern', 'target', 'strings', 'mandatory', 'arguments']\n"
     ]
    }
   ],
   "source": [
    "#3 Function in python to find all words that are at least 4 characters long in a string\n",
    "str1=\"The regular expression pattern and target strings are the mandatory arguments.\"\n",
    "string_pattern=r\"\\w{4,}\"\n",
    "regex_pattern=re.compile(string_pattern)\n",
    "result=regex_pattern.findall(str1)\n",
    "print(result)"
   ]
  },
  {
   "cell_type": "code",
   "execution_count": 8,
   "id": "9a7f5016",
   "metadata": {},
   "outputs": [
    {
     "name": "stdout",
     "output_type": "stream",
     "text": [
      "['The ', ' and ', ' are ', ' the ']\n"
     ]
    }
   ],
   "source": [
    "#4 Function in python to find all three, four, and five character words in a string\n",
    "str2=\"The regular expression pattern and target strings are the mandatory arguments.\"\n",
    "str2=re.sub(\"\\s\",\"  \",str2)\n",
    "string_pattern=r\"^\\w{3,5}\\s|\\s\\w{3,5}\\s\"\n",
    "regex_pattern=re.compile(string_pattern)\n",
    "result=regex_pattern.findall(str2)\n",
    "print(result)"
   ]
  },
  {
   "cell_type": "code",
   "execution_count": 9,
   "id": "d27c693e",
   "metadata": {},
   "outputs": [
    {
     "name": "stdout",
     "output_type": "stream",
     "text": [
      "example.com\n",
      "hr@fliprobo.com\n",
      "github.com\n",
      "Hello Data Science World\n",
      "Data Scientist\n"
     ]
    }
   ],
   "source": [
    "#5 Function in Python to remove the parenthesis in a list of strings\n",
    "str3=[\"example (.com)\", \"hr@fliprobo (.com)\", \"github (.com)\", \"Hello (Data Science World)\", \"Data (Scientist)\"]\n",
    "string_pattern=r\"\\(|\\)\"\n",
    "regex_pattern=re.compile(string_pattern)\n",
    "for str in str3:\n",
    "    result=regex_pattern.sub(\"\",str)\n",
    "    result=re.sub(\"\\s\\.\",\".\",result)\n",
    "    print(result)"
   ]
  },
  {
   "cell_type": "code",
   "execution_count": 10,
   "id": "97aa1649",
   "metadata": {},
   "outputs": [
    {
     "name": "stdout",
     "output_type": "stream",
     "text": [
      "[\"example\", \"hr@fliprobo\", \"github\", \"Hello \", \"Data\"]\n"
     ]
    }
   ],
   "source": [
    "#6 Python program to remove the parenthesis area from the text stored in the text file using Regular Expression.\n",
    "with open(\"Text File 1.txt\") as file:\n",
    "    for str in file:\n",
    "        result=re.sub(r\"\\s\\(.\\w+\\)|\\(\\w+\\s\\w+\\s\\w+\\)\",\"\",str)\n",
    "        print(result)"
   ]
  },
  {
   "cell_type": "code",
   "execution_count": 11,
   "id": "31a8e514",
   "metadata": {},
   "outputs": [
    {
     "name": "stdout",
     "output_type": "stream",
     "text": [
      "Importance Of Regular Expressions In Python \n"
     ]
    }
   ],
   "source": [
    "#7 Regular expression in Python to split a string into uppercase letters\n",
    "str5=\"ImportanceOfRegularExpressionsInPython\"\n",
    "pattern=\"([A-Z][a-z]+)\"\n",
    "result=re.split(pattern,str5)\n",
    "def result_string (result):\n",
    "    string=' '\n",
    "    return(string.join(result))\n",
    "res=result_string(result)\n",
    "res=re.sub(\"^\\s\",\"\",res)\n",
    "res=re.sub(\"\\s+\",\" \",res)\n",
    "print(res)"
   ]
  },
  {
   "cell_type": "code",
   "execution_count": 14,
   "id": "a2374bc8",
   "metadata": {},
   "outputs": [
    {
     "name": "stdout",
     "output_type": "stream",
     "text": [
      "RegularExpression 1Is An 2Important Topic 3In Python\n"
     ]
    }
   ],
   "source": [
    "#8 Function in python to insert spaces between words starting with numbers\n",
    "str6=\"RegularExpression1IsAn2ImportantTopic3InPython\"\n",
    "pattern=\"(\\d[A-Z][a-z]+)\"\n",
    "result=re.split(pattern,str6)\n",
    "def result_string (result):\n",
    "    string=' '\n",
    "    return(string.join(result))\n",
    "res=result_string(result)\n",
    "res=re.sub(\"\\s+\",\" \",res)\n",
    "print(res)"
   ]
  },
  {
   "cell_type": "code",
   "execution_count": 15,
   "id": "fed4e9b4",
   "metadata": {},
   "outputs": [
    {
     "name": "stdout",
     "output_type": "stream",
     "text": [
      "Regular Expression 1 Is An 2 Important Topic 3 In Python\n"
     ]
    }
   ],
   "source": [
    "#9 Function in python to insert spaces between words starting with capital letters or with numbers\n",
    "str7=\"RegularExpression1IsAn2ImportantTopic3InPython\"\n",
    "pattern=\"([A-Z][a-z]+|\\d)\"\n",
    "result=re.split(pattern,str7)\n",
    "result.pop(0)\n",
    "result.pop(-1)\n",
    "def result_string (result):\n",
    "    string=' '\n",
    "    return(string.join(result))\n",
    "res=result_string(result)\n",
    "res=re.sub(\"\\s+\",\" \",res)\n",
    "print(res)"
   ]
  },
  {
   "cell_type": "code",
   "execution_count": 16,
   "id": "3ba842bc",
   "metadata": {},
   "outputs": [
    {
     "data": {
      "text/html": [
       "<div>\n",
       "<style scoped>\n",
       "    .dataframe tbody tr th:only-of-type {\n",
       "        vertical-align: middle;\n",
       "    }\n",
       "\n",
       "    .dataframe tbody tr th {\n",
       "        vertical-align: top;\n",
       "    }\n",
       "\n",
       "    .dataframe thead th {\n",
       "        text-align: right;\n",
       "    }\n",
       "</style>\n",
       "<table border=\"1\" class=\"dataframe\">\n",
       "  <thead>\n",
       "    <tr style=\"text-align: right;\">\n",
       "      <th></th>\n",
       "      <th>Country</th>\n",
       "      <th>Region</th>\n",
       "      <th>Happiness Rank</th>\n",
       "      <th>Happiness Score</th>\n",
       "      <th>Standard Error</th>\n",
       "      <th>Economy (GDP per Capita)</th>\n",
       "      <th>Family</th>\n",
       "      <th>Health (Life Expectancy)</th>\n",
       "      <th>Freedom</th>\n",
       "      <th>Trust (Government Corruption)</th>\n",
       "      <th>Generosity</th>\n",
       "      <th>Dystopia Residual</th>\n",
       "      <th>first_five_letters</th>\n",
       "    </tr>\n",
       "  </thead>\n",
       "  <tbody>\n",
       "    <tr>\n",
       "      <th>0</th>\n",
       "      <td>Switzerland</td>\n",
       "      <td>Western Europe</td>\n",
       "      <td>1</td>\n",
       "      <td>7.587</td>\n",
       "      <td>0.03411</td>\n",
       "      <td>1.39651</td>\n",
       "      <td>1.34951</td>\n",
       "      <td>0.94143</td>\n",
       "      <td>0.66557</td>\n",
       "      <td>0.41978</td>\n",
       "      <td>0.29678</td>\n",
       "      <td>2.51738</td>\n",
       "      <td>[Switze]</td>\n",
       "    </tr>\n",
       "    <tr>\n",
       "      <th>1</th>\n",
       "      <td>Iceland</td>\n",
       "      <td>Western Europe</td>\n",
       "      <td>2</td>\n",
       "      <td>7.561</td>\n",
       "      <td>0.04884</td>\n",
       "      <td>1.30232</td>\n",
       "      <td>1.40223</td>\n",
       "      <td>0.94784</td>\n",
       "      <td>0.62877</td>\n",
       "      <td>0.14145</td>\n",
       "      <td>0.43630</td>\n",
       "      <td>2.70201</td>\n",
       "      <td>[Icelan]</td>\n",
       "    </tr>\n",
       "    <tr>\n",
       "      <th>2</th>\n",
       "      <td>Denmark</td>\n",
       "      <td>Western Europe</td>\n",
       "      <td>3</td>\n",
       "      <td>7.527</td>\n",
       "      <td>0.03328</td>\n",
       "      <td>1.32548</td>\n",
       "      <td>1.36058</td>\n",
       "      <td>0.87464</td>\n",
       "      <td>0.64938</td>\n",
       "      <td>0.48357</td>\n",
       "      <td>0.34139</td>\n",
       "      <td>2.49204</td>\n",
       "      <td>[Denmar]</td>\n",
       "    </tr>\n",
       "    <tr>\n",
       "      <th>3</th>\n",
       "      <td>Norway</td>\n",
       "      <td>Western Europe</td>\n",
       "      <td>4</td>\n",
       "      <td>7.522</td>\n",
       "      <td>0.03880</td>\n",
       "      <td>1.45900</td>\n",
       "      <td>1.33095</td>\n",
       "      <td>0.88521</td>\n",
       "      <td>0.66973</td>\n",
       "      <td>0.36503</td>\n",
       "      <td>0.34699</td>\n",
       "      <td>2.46531</td>\n",
       "      <td>[Norway]</td>\n",
       "    </tr>\n",
       "    <tr>\n",
       "      <th>4</th>\n",
       "      <td>Canada</td>\n",
       "      <td>North America</td>\n",
       "      <td>5</td>\n",
       "      <td>7.427</td>\n",
       "      <td>0.03553</td>\n",
       "      <td>1.32629</td>\n",
       "      <td>1.32261</td>\n",
       "      <td>0.90563</td>\n",
       "      <td>0.63297</td>\n",
       "      <td>0.32957</td>\n",
       "      <td>0.45811</td>\n",
       "      <td>2.45176</td>\n",
       "      <td>[Canada]</td>\n",
       "    </tr>\n",
       "    <tr>\n",
       "      <th>...</th>\n",
       "      <td>...</td>\n",
       "      <td>...</td>\n",
       "      <td>...</td>\n",
       "      <td>...</td>\n",
       "      <td>...</td>\n",
       "      <td>...</td>\n",
       "      <td>...</td>\n",
       "      <td>...</td>\n",
       "      <td>...</td>\n",
       "      <td>...</td>\n",
       "      <td>...</td>\n",
       "      <td>...</td>\n",
       "      <td>...</td>\n",
       "    </tr>\n",
       "    <tr>\n",
       "      <th>153</th>\n",
       "      <td>Rwanda</td>\n",
       "      <td>Sub-Saharan Africa</td>\n",
       "      <td>154</td>\n",
       "      <td>3.465</td>\n",
       "      <td>0.03464</td>\n",
       "      <td>0.22208</td>\n",
       "      <td>0.77370</td>\n",
       "      <td>0.42864</td>\n",
       "      <td>0.59201</td>\n",
       "      <td>0.55191</td>\n",
       "      <td>0.22628</td>\n",
       "      <td>0.67042</td>\n",
       "      <td>[Rwanda]</td>\n",
       "    </tr>\n",
       "    <tr>\n",
       "      <th>154</th>\n",
       "      <td>Benin</td>\n",
       "      <td>Sub-Saharan Africa</td>\n",
       "      <td>155</td>\n",
       "      <td>3.340</td>\n",
       "      <td>0.03656</td>\n",
       "      <td>0.28665</td>\n",
       "      <td>0.35386</td>\n",
       "      <td>0.31910</td>\n",
       "      <td>0.48450</td>\n",
       "      <td>0.08010</td>\n",
       "      <td>0.18260</td>\n",
       "      <td>1.63328</td>\n",
       "      <td>[Benin]</td>\n",
       "    </tr>\n",
       "    <tr>\n",
       "      <th>155</th>\n",
       "      <td>Syria</td>\n",
       "      <td>Middle East and Northern Africa</td>\n",
       "      <td>156</td>\n",
       "      <td>3.006</td>\n",
       "      <td>0.05015</td>\n",
       "      <td>0.66320</td>\n",
       "      <td>0.47489</td>\n",
       "      <td>0.72193</td>\n",
       "      <td>0.15684</td>\n",
       "      <td>0.18906</td>\n",
       "      <td>0.47179</td>\n",
       "      <td>0.32858</td>\n",
       "      <td>[Syria]</td>\n",
       "    </tr>\n",
       "    <tr>\n",
       "      <th>156</th>\n",
       "      <td>Burundi</td>\n",
       "      <td>Sub-Saharan Africa</td>\n",
       "      <td>157</td>\n",
       "      <td>2.905</td>\n",
       "      <td>0.08658</td>\n",
       "      <td>0.01530</td>\n",
       "      <td>0.41587</td>\n",
       "      <td>0.22396</td>\n",
       "      <td>0.11850</td>\n",
       "      <td>0.10062</td>\n",
       "      <td>0.19727</td>\n",
       "      <td>1.83302</td>\n",
       "      <td>[Burund]</td>\n",
       "    </tr>\n",
       "    <tr>\n",
       "      <th>157</th>\n",
       "      <td>Togo</td>\n",
       "      <td>Sub-Saharan Africa</td>\n",
       "      <td>158</td>\n",
       "      <td>2.839</td>\n",
       "      <td>0.06727</td>\n",
       "      <td>0.20868</td>\n",
       "      <td>0.13995</td>\n",
       "      <td>0.28443</td>\n",
       "      <td>0.36453</td>\n",
       "      <td>0.10731</td>\n",
       "      <td>0.16681</td>\n",
       "      <td>1.56726</td>\n",
       "      <td>[Togo]</td>\n",
       "    </tr>\n",
       "  </tbody>\n",
       "</table>\n",
       "<p>158 rows × 13 columns</p>\n",
       "</div>"
      ],
      "text/plain": [
       "         Country                           Region  Happiness Rank  \\\n",
       "0    Switzerland                   Western Europe               1   \n",
       "1        Iceland                   Western Europe               2   \n",
       "2        Denmark                   Western Europe               3   \n",
       "3         Norway                   Western Europe               4   \n",
       "4         Canada                    North America               5   \n",
       "..           ...                              ...             ...   \n",
       "153       Rwanda               Sub-Saharan Africa             154   \n",
       "154        Benin               Sub-Saharan Africa             155   \n",
       "155        Syria  Middle East and Northern Africa             156   \n",
       "156      Burundi               Sub-Saharan Africa             157   \n",
       "157         Togo               Sub-Saharan Africa             158   \n",
       "\n",
       "     Happiness Score  Standard Error  Economy (GDP per Capita)   Family  \\\n",
       "0              7.587         0.03411                   1.39651  1.34951   \n",
       "1              7.561         0.04884                   1.30232  1.40223   \n",
       "2              7.527         0.03328                   1.32548  1.36058   \n",
       "3              7.522         0.03880                   1.45900  1.33095   \n",
       "4              7.427         0.03553                   1.32629  1.32261   \n",
       "..               ...             ...                       ...      ...   \n",
       "153            3.465         0.03464                   0.22208  0.77370   \n",
       "154            3.340         0.03656                   0.28665  0.35386   \n",
       "155            3.006         0.05015                   0.66320  0.47489   \n",
       "156            2.905         0.08658                   0.01530  0.41587   \n",
       "157            2.839         0.06727                   0.20868  0.13995   \n",
       "\n",
       "     Health (Life Expectancy)  Freedom  Trust (Government Corruption)  \\\n",
       "0                     0.94143  0.66557                        0.41978   \n",
       "1                     0.94784  0.62877                        0.14145   \n",
       "2                     0.87464  0.64938                        0.48357   \n",
       "3                     0.88521  0.66973                        0.36503   \n",
       "4                     0.90563  0.63297                        0.32957   \n",
       "..                        ...      ...                            ...   \n",
       "153                   0.42864  0.59201                        0.55191   \n",
       "154                   0.31910  0.48450                        0.08010   \n",
       "155                   0.72193  0.15684                        0.18906   \n",
       "156                   0.22396  0.11850                        0.10062   \n",
       "157                   0.28443  0.36453                        0.10731   \n",
       "\n",
       "     Generosity  Dystopia Residual first_five_letters  \n",
       "0       0.29678            2.51738           [Switze]  \n",
       "1       0.43630            2.70201           [Icelan]  \n",
       "2       0.34139            2.49204           [Denmar]  \n",
       "3       0.34699            2.46531           [Norway]  \n",
       "4       0.45811            2.45176           [Canada]  \n",
       "..          ...                ...                ...  \n",
       "153     0.22628            0.67042           [Rwanda]  \n",
       "154     0.18260            1.63328            [Benin]  \n",
       "155     0.47179            0.32858            [Syria]  \n",
       "156     0.19727            1.83302           [Burund]  \n",
       "157     0.16681            1.56726             [Togo]  \n",
       "\n",
       "[158 rows x 13 columns]"
      ]
     },
     "execution_count": 16,
     "metadata": {},
     "output_type": "execute_result"
    }
   ],
   "source": [
    "#10 Read the data from a github link and create a dataframe\n",
    "link=pd.read_csv('https://raw.githubusercontent.com/dsrscientist/DSData/master/happiness_score_dataset.csv')\n",
    "def extract6(x):\n",
    "    return re.findall(r\"^\\w{0,6}\",x)\n",
    "link['first_five_letters']=link['Country'].apply(extract6)\n",
    "link"
   ]
  },
  {
   "cell_type": "code",
   "execution_count": 17,
   "id": "ddabfe55",
   "metadata": {},
   "outputs": [
    {
     "name": "stdout",
     "output_type": "stream",
     "text": [
      "Please enter a string\n",
      "Hello_World_123$_tjyvtkd56.,:\n",
      "The string is not matched. It contains: ['$', '.', ',', ':']\n"
     ]
    }
   ],
   "source": [
    "#11 Python program to match a string that contains only upper and lowercase letters, numbers, and underscores\n",
    "pattern=\"\\W\"\n",
    "str8=input('Please enter a string\\n')\n",
    "matches=re.findall(pattern,str8)\n",
    "if matches==[]:\n",
    "    print('The string is matched')\n",
    "else:\n",
    "    print('The string is not matched. It contains:',matches)"
   ]
  },
  {
   "cell_type": "code",
   "execution_count": 18,
   "id": "a2f52cf5",
   "metadata": {},
   "outputs": [
    {
     "name": "stdout",
     "output_type": "stream",
     "text": [
      "Please enter a string\n",
      "9_Hello World\n",
      "Please enter a specific number to check\n",
      "8\n",
      "The string has not started with the specified number. The first character is 9\n"
     ]
    }
   ],
   "source": [
    "#12 Python program where a string will start with a specific number\n",
    "str9=input('Please enter a string\\n')\n",
    "num1=int(input('Please enter a specific number to check\\n'))\n",
    "if int(str9[0])==num1:\n",
    "    print('The string has started with the specified number')\n",
    "else:\n",
    "    print('The string has not started with the specified number. The first character is',str9[0])"
   ]
  },
  {
   "cell_type": "code",
   "execution_count": 19,
   "id": "f6de7231",
   "metadata": {},
   "outputs": [
    {
     "name": "stdout",
     "output_type": "stream",
     "text": [
      "Please enter a valid IP address\n",
      "001.010.168.002\n",
      "1.10.168.2\n"
     ]
    }
   ],
   "source": [
    "#13 Python program to remove leading zeros from an IP address\n",
    "str10=input('Please enter a valid IP address\\n')\n",
    "result=re.split(r\"\\.\",str10,maxsplit=3)\n",
    "ip=\"\"\n",
    "for i in range(0,4):\n",
    "    res_str=re.sub(\"^[0]+\",\"\",result[i])\n",
    "    if ip==\"\":\n",
    "        ip=res_str\n",
    "    else:\n",
    "        ip=ip+\".\"+res_str\n",
    "    i=i+1\n",
    "print(ip)"
   ]
  },
  {
   "cell_type": "code",
   "execution_count": 20,
   "id": "15d6b0f0",
   "metadata": {},
   "outputs": [
    {
     "name": "stdout",
     "output_type": "stream",
     "text": [
      "['August 15th 1947']\n"
     ]
    }
   ],
   "source": [
    "#14 Regular expression in python to match a date string in the form of Month name followed by day number and year stored in a text file\n",
    "with open(\"Text File 2.txt\") as file:\n",
    "    for str in file:\n",
    "        result=re.findall(\"\\w+\\s\\d\\d\\w{2}\\s\\d\\d\\d\\d\",str)\n",
    "        print(result)"
   ]
  },
  {
   "cell_type": "code",
   "execution_count": 21,
   "id": "98ef4773",
   "metadata": {},
   "outputs": [
    {
     "name": "stdout",
     "output_type": "stream",
     "text": [
      "<regex.Match object; span=(16, 19), match='fox'>\n",
      "<regex.Match object; span=(40, 43), match='dog'>\n",
      "None\n"
     ]
    }
   ],
   "source": [
    "#15 Python program to search some literals strings in a string\n",
    "text=\"The quick brown fox jumps over the lazy dog.\"\n",
    "search1=re.search(\"fox\",text)\n",
    "search2=re.search(\"dog\",text)\n",
    "search3=re.search(\"horse\",text)\n",
    "print(search1)\n",
    "print(search2)\n",
    "print(search3)"
   ]
  },
  {
   "cell_type": "code",
   "execution_count": 22,
   "id": "1c09534b",
   "metadata": {},
   "outputs": [
    {
     "name": "stdout",
     "output_type": "stream",
     "text": [
      "Enter a literals string to serach in the given string\n",
      "fox\n",
      "<regex.Match object; span=(16, 19), match='fox'>\n"
     ]
    }
   ],
   "source": [
    "#16 Python program to search a literals string in a string and also find the location within the original string where the pattern occurs\n",
    "text=\"The quick brown fox jumps over the lazy dog.\"\n",
    "pattern=input('Enter a literals string to serach in the given string\\n')\n",
    "search=re.search(pattern,text)\n",
    "print(search)"
   ]
  },
  {
   "cell_type": "code",
   "execution_count": 23,
   "id": "b10d7d98",
   "metadata": {},
   "outputs": [
    {
     "name": "stdout",
     "output_type": "stream",
     "text": [
      "['exercises', 'exercises', 'exercises']\n"
     ]
    }
   ],
   "source": [
    "#17 Python program to find the substrings within a string\n",
    "string='Python exercises, PHP exercises, C# exercises'\n",
    "pattern='exercises'\n",
    "result=re.findall(pattern,string)\n",
    "print(result)"
   ]
  },
  {
   "cell_type": "code",
   "execution_count": 24,
   "id": "7df9f1dd",
   "metadata": {},
   "outputs": [
    {
     "name": "stdout",
     "output_type": "stream",
     "text": [
      "['exercises', 'exercises', 'exercises']\n",
      "<regex.Match object; span=(7, 16), match='exercises'>\n",
      "<regex.Match object; span=(5, 14), match='exercises'>\n",
      "<regex.Match object; span=(4, 13), match='exercises'>\n"
     ]
    }
   ],
   "source": [
    "#18 Python program to find the occurrence and position of the substrings within a string\n",
    "string='Python exercises, PHP exercises, C# exercises'\n",
    "sub_string=\"exercises\"\n",
    "result=re.findall(sub_string,string)\n",
    "print(result)\n",
    "result=re.split(\",\",string)\n",
    "for r in result:\n",
    "    search=re.search(sub_string,r)\n",
    "    print(search)"
   ]
  },
  {
   "cell_type": "code",
   "execution_count": 43,
   "id": "a0958bdd",
   "metadata": {
    "scrolled": true
   },
   "outputs": [
    {
     "name": "stdout",
     "output_type": "stream",
     "text": [
      "Please enter a date in yyyy-mm-dd format\n",
      "2024-01-09\n",
      "['2024', '01', '09']\n",
      "\n"
     ]
    }
   ],
   "source": [
    "#19 Python program to convert a date of yyyy-mm-dd format to dd-mm-yyyy format\n",
    "date1=input('Please enter a date in yyyy-mm-dd format\\n')\n",
    "split_date=re.split(\"-\",date1)\n",
    "print(split_date)\n",
    "new_date=\"\"\n",
    "for i in range(2,0):\n",
    "    res_date=split_date[i]\n",
    "    if new_date==\"\":\n",
    "        new_date=res_date\n",
    "    else:\n",
    "        new_date=new_date+\"-\"+res_date\n",
    "        i=i-1\n",
    "print(new_date)"
   ]
  },
  {
   "cell_type": "code",
   "execution_count": 26,
   "id": "bb3e58f5",
   "metadata": {},
   "outputs": [
    {
     "name": "stdout",
     "output_type": "stream",
     "text": [
      "['01.12', '0132.12', '2.31', '145.8', '3.01', '27.25', '0.25']\n"
     ]
    }
   ],
   "source": [
    "#20 Function in python to find all decimal numbers with a precision of 1 or 2 in a string\n",
    "str20=\"01.12 0132.123 2.31875 145.8 3.01 27.25 0.25\"\n",
    "string_pattern=\"\\d+\\.\\d{1,2}+\"\n",
    "regex_pattern=re.compile(string_pattern)\n",
    "result=regex_pattern.findall(str20)\n",
    "print(result)"
   ]
  },
  {
   "cell_type": "code",
   "execution_count": 27,
   "id": "599c43f6",
   "metadata": {},
   "outputs": [
    {
     "name": "stdout",
     "output_type": "stream",
     "text": [
      "['1', '2', '3']\n",
      "<regex.Match object; span=(19, 20), match='1'>\n",
      "<regex.Match object; span=(27, 28), match='2'>\n",
      "<regex.Match object; span=(45, 46), match='3'>\n"
     ]
    }
   ],
   "source": [
    "#21 Python program to separate and print the numbers and their position of a given string\n",
    "str21=\"Regular Expression 1 Is An 2 Important Topic 3 In Python\"\n",
    "pattern=\"\\d+\"\n",
    "result=re.findall(pattern,str21)\n",
    "result=result\n",
    "print(result)\n",
    "for i in range(0,3):\n",
    "    search=re.search(result[i],str21)\n",
    "    print(search)\n",
    "    i=i+1"
   ]
  },
  {
   "cell_type": "code",
   "execution_count": 28,
   "id": "48f3aa8c",
   "metadata": {},
   "outputs": [
    {
     "name": "stdout",
     "output_type": "stream",
     "text": [
      "950\n"
     ]
    }
   ],
   "source": [
    "#22 Regular expression in python program to extract maximum/largest numeric value from a string.\n",
    "text1='My marks in each semester are: 947, 896, 926, 524, 734, 950, 642'\n",
    "result=re.findall(\"\\d+\",text1)\n",
    "result.sort(reverse=True)\n",
    "print(result[0])"
   ]
  },
  {
   "cell_type": "code",
   "execution_count": 29,
   "id": "715d9cac",
   "metadata": {},
   "outputs": [
    {
     "name": "stdout",
     "output_type": "stream",
     "text": [
      "Regular Expression Is An Important Topic In Python\n"
     ]
    }
   ],
   "source": [
    "#23 Function in python to insert spaces between words starting with capital letters\n",
    "text2=\"RegularExpressionIsAnImportantTopicInPython\"\n",
    "pattern=\"([A-Z][a-z]+)\"\n",
    "result=re.split(pattern,text2)\n",
    "result.pop(0)\n",
    "result.pop(-1)\n",
    "def result_string (result):\n",
    "    string=' '\n",
    "    return(string.join(result))\n",
    "res=result_string(result)\n",
    "res=re.sub(\"\\s+\",\" \",res)\n",
    "print(res)"
   ]
  },
  {
   "cell_type": "code",
   "execution_count": 30,
   "id": "a5affd97",
   "metadata": {},
   "outputs": [
    {
     "name": "stdout",
     "output_type": "stream",
     "text": [
      "['The', 'Brown', 'Ps', 'Ver', 'Laz']\n"
     ]
    }
   ],
   "source": [
    "#24  Python regex to find sequences of one upper case letter followed by lower case letters\n",
    "text3=\"The quick Brown fox jumPs oVer the LazY dog.\"\n",
    "pattern=\"[A-Z][a-z]+\"\n",
    "search=re.findall(pattern,text3)\n",
    "print(search)"
   ]
  },
  {
   "cell_type": "code",
   "execution_count": 31,
   "id": "4a7739d3",
   "metadata": {},
   "outputs": [
    {
     "name": "stdout",
     "output_type": "stream",
     "text": [
      "Hello hello world\n"
     ]
    }
   ],
   "source": [
    "#25 Python program to remove continuous duplicate words from Sentence using Regular Expression\n",
    "text4=\"Hello hello world world\"\n",
    "split_text=re.split(\"\\s\",text4)\n",
    "result=[]\n",
    "for i in split_text:\n",
    "    if i not in result:\n",
    "        result.append(i)\n",
    "final_string=\" \".join(result)\n",
    "print(final_string)"
   ]
  },
  {
   "cell_type": "code",
   "execution_count": 32,
   "id": "616d982d",
   "metadata": {},
   "outputs": [
    {
     "name": "stdout",
     "output_type": "stream",
     "text": [
      "Enter a string\n",
      "Hello World!\n",
      "The string does not end with alphanumneric character. Please enter a string ending with alphanumeric character\n"
     ]
    }
   ],
   "source": [
    "#26 Python program using RegEx to accept string ending with alphanumeric character\n",
    "text5=input('Enter a string\\n')\n",
    "pattern=(r\"[A-Z]|[a-z]|[0-9]\")\n",
    "result=re.match(pattern,text5[-1])\n",
    "if result!=None:\n",
    "    print('The string is ending with alphanumeric character')\n",
    "else:\n",
    "    print('The string does not end with alphanumneric character. Please enter a string ending with alphanumeric character')"
   ]
  },
  {
   "cell_type": "code",
   "execution_count": 33,
   "id": "7e128623",
   "metadata": {},
   "outputs": [
    {
     "name": "stdout",
     "output_type": "stream",
     "text": [
      "['#Doltiwal', '#xyzabc', '#Demonetization']\n"
     ]
    }
   ],
   "source": [
    "#27 Python program using RegEx to extract the hashtags\n",
    "str27=\"\"\"RT @kapil_kausik: #Doltiwal I mean #xyzabc is \"hurt\" by #Demonetization as the same has rendered USELESS <ed><U+00A0><U+00BD><ed><U+00B1><U+0089> \"acquired funds\" No wo\"\"\"\n",
    "pattern=r\"[#]\\w+\"\n",
    "result=re.findall(pattern,str27)\n",
    "print(result)"
   ]
  },
  {
   "cell_type": "code",
   "execution_count": 34,
   "id": "944968ef",
   "metadata": {},
   "outputs": [
    {
     "name": "stdout",
     "output_type": "stream",
     "text": [
      "@Jags123456 Bharat band on 28??<ed><ed>Those who are protesting #demonetization are all different party leaders\n"
     ]
    }
   ],
   "source": [
    "#28 Python program using RegEx to remove <U+..> like symbols\n",
    "str28=\"@Jags123456 Bharat band on 28??<ed><U+00A0><U+00BD><ed><U+00B8><U+0082>Those who are protesting #demonetization are all different party leaders\"\n",
    "pattern=\"[<U+.]+\\w{4}[>]\"\n",
    "result=re.sub(pattern,\"\",str28)\n",
    "print(result)"
   ]
  },
  {
   "cell_type": "code",
   "execution_count": 35,
   "id": "eefb6e3f",
   "metadata": {},
   "outputs": [
    {
     "name": "stdout",
     "output_type": "stream",
     "text": [
      "['12-09-1992', '15-12-1999']\n"
     ]
    }
   ],
   "source": [
    "#29 Python program to extract dates from the text stored in the text file\n",
    "with open(\"Text File 3.txt\") as file:\n",
    "    for str in file:\n",
    "        result=re.findall(\"\\d\\d-\\d\\d-\\d\\d\\d\\d\",str)\n",
    "        print(result)"
   ]
  },
  {
   "cell_type": "code",
   "execution_count": 36,
   "id": "863ea9b6",
   "metadata": {},
   "outputs": [
    {
     "name": "stdout",
     "output_type": "stream",
     "text": [
      "following example creates ArrayList a capacity elements. 4 elements added ArrayList ArrayList trimmed accordingly.\n"
     ]
    }
   ],
   "source": [
    "#30 Function in python to remove all words from a string of length between 2 and 4\n",
    "str30=\"The following example creates an ArrayList with a capacity of 50 elements. 4 elements are then added to the ArrayList and the ArrayList is trimmed accordingly.\"\n",
    "str30=re.sub(\"\\s\",\"  \",str30)\n",
    "result=re.sub(\"^\\w{2,4}\\s\",\"\",str30)\n",
    "result=re.sub(\"\\s\\w{2,4}\\s\",\" \",result)\n",
    "result=re.sub(\"^\\s\",\"\",result)\n",
    "result=re.sub(\"\\s+\",\" \",result)\n",
    "print(result)"
   ]
  },
  {
   "cell_type": "code",
   "execution_count": null,
   "id": "0422641d",
   "metadata": {},
   "outputs": [],
   "source": []
  }
 ],
 "metadata": {
  "kernelspec": {
   "display_name": "Python 3 (ipykernel)",
   "language": "python",
   "name": "python3"
  },
  "language_info": {
   "codemirror_mode": {
    "name": "ipython",
    "version": 3
   },
   "file_extension": ".py",
   "mimetype": "text/x-python",
   "name": "python",
   "nbconvert_exporter": "python",
   "pygments_lexer": "ipython3",
   "version": "3.10.9"
  }
 },
 "nbformat": 4,
 "nbformat_minor": 5
}
